{
  "cells": [
    {
      "cell_type": "markdown",
      "metadata": {
        "id": "wtb5ZO5djGKi"
      },
      "source": [
        "# Small data and deep learning\n",
        "This pratical session proposes to study several techniques to improve training performance in the challenging context where few data and resources are available."
      ]
    },
    {
      "cell_type": "markdown",
      "metadata": {
        "id": "nkEk9hbxjGKk"
      },
      "source": [
        "# Introduction\n",
        "Assume we are in a context where few \"gold\" labeled data are available for training, say $\\mathcal{X}_{\\text{train}}\\triangleq\\{(x_n,y_n)\\}_{n\\leq N_{\\text{train}}}$, where $N_{\\text{train}}$ is small. A large test set $\\mathcal{X}_{\\text{test}}$ is available. A large amount of unlabeled data, $\\mathcal{X}_{\\text{nolabel}}$, is available. We also assume that we have a limited computational budget (e.g., no GPUs).\n",
        "\n",
        "For each question, write a commented *Code* or a complete answer as a *Markdown*. When the objective of a question is to report a CNN accuracy, please use the following format to report it, at the end of the question :\n",
        "\n",
        "\n",
        "| Model | Number of  epochs  | Train accuracy | Test accuracy |\n",
        "|------|------|------|------|\n",
        "|   XXX  | XXX | XXX | XXX |\n",
        "\n",
        "\n",
        "If applicable, please add the field corresponding to the  __Accuracy on Full Data__ as well as a link to the __Reference paper__ you used to report those numbers. (You do not need to train a CNN on the full CIFAR10 dataset.)\n",
        "\n",
        "In your final report, please keep the logs of each training procedure you used. We will only run this jupyter if we have some doubts on your implementation. \n",
        "\n",
        "__The total file sizes should be reasonable (feasible with 2MB only!). You will be asked to hand in the notebook, together with any necessary files required to run it if any.__\n",
        "\n",
        "\n",
        "To run your experiments, you can use the same local installation as for previous TPs, or otherwise https://colab.research.google.com/."
      ]
    },
    {
      "cell_type": "markdown",
      "metadata": {
        "id": "yyz4hH-GjGKk"
      },
      "source": [
        "## Training set creation\n",
        "__Question 1 (2 points) :__ Propose a dataloader that will only use the first 100 samples of the CIFAR-10 training set. \n",
        "\n",
        "*Hint* : You can modify the file located at https://github.com/pytorch/vision/blob/master/torchvision/datasets/cifar.py or use the information from https://pytorch.org/vision/stable/datasets.html"
      ]
    },
    {
      "cell_type": "markdown",
      "metadata": {
        "id": "Sx8Y526AjGKl"
      },
      "source": [
        "This is our dataset $\\mathcal{X}_{\\text{train}}$, it will be used until the end of this project. The remaining samples correspond to $\\mathcal{X}_{\\text{nolabel}}$. The testing set $\\mathcal{X}_{\\text{test}}$ corresponds to the whole testing set of CIFAR-10."
      ]
    },
    {
      "cell_type": "code",
      "execution_count": null,
      "metadata": {
        "id": "Ubzk-YBIluxP"
      },
      "outputs": [],
      "source": [
        "import os.path\n",
        "import pickle\n",
        "from typing import Any, Callable, Optional, Tuple\n",
        "\n",
        "import numpy as np\n",
        "from PIL import Image\n",
        "\n",
        "from torchvision.datasets.utils import check_integrity, download_and_extract_archive\n",
        "from torchvision.datasets.vision import VisionDataset\n",
        "\n",
        "import torch\n",
        "import torchvision\n",
        "from torchvision.transforms import transforms as T \n",
        "\n",
        "\n",
        "import torch.nn as nn\n",
        "import torch.nn.functional as F\n",
        "\n",
        "\n",
        "import torch.optim as optim\n",
        "import torch.backends.cudnn as cudnn\n",
        "\n",
        "from collections import defaultdict\n",
        "\n",
        "import torchvision.models as models\n",
        "\n",
        "\n",
        "\n",
        "device = 'cuda' if torch.cuda.is_available() else 'cpu'"
      ]
    },
    {
      "cell_type": "code",
      "execution_count": null,
      "metadata": {
        "id": "SMIrqdarlslz"
      },
      "outputs": [],
      "source": [
        "class CIFAR10(VisionDataset):\n",
        "    \"\"\"`CIFAR10 <https://www.cs.toronto.edu/~kriz/cifar.html>`_ Dataset.\n",
        "\n",
        "    Args:\n",
        "        root (string): Root directory of dataset where directory\n",
        "            ``cifar-10-batches-py`` exists or will be saved to if download is set to True.\n",
        "        train (bool, optional): If True, creates dataset from training set, otherwise\n",
        "            creates from test set.\n",
        "        transform (callable, optional): A function/transform that takes in an PIL image\n",
        "            and returns a transformed version. E.g, ``transforms.RandomCrop``\n",
        "        target_transform (callable, optional): A function/transform that takes in the\n",
        "            target and transforms it.\n",
        "        download (bool, optional): If true, downloads the dataset from the internet and\n",
        "            puts it in root directory. If dataset is already downloaded, it is not\n",
        "            downloaded again.\n",
        "\n",
        "    \"\"\"\n",
        "\n",
        "    base_folder = \"cifar-10-batches-py\"\n",
        "    url = \"https://www.cs.toronto.edu/~kriz/cifar-10-python.tar.gz\"\n",
        "    filename = \"cifar-10-python.tar.gz\"\n",
        "    tgz_md5 = \"c58f30108f718f92721af3b95e74349a\"\n",
        "    train_list = [\n",
        "        [\"data_batch_1\", \"c99cafc152244af753f735de768cd75f\"],\n",
        "        #[\"data_batch_2\", \"d4bba439e000b95fd0a9bffe97cbabec\"], #A enlever\n",
        "        #[\"data_batch_3\", \"54ebc095f3ab1f0389bbae665268c751\"], #A enlever\n",
        "        #[\"data_batch_4\", \"634d18415352ddfa80567beed471001a\"], #A enlever\n",
        "        #[\"data_batch_5\", \"482c414d41f54cd18b22e5b47cb7c3cb\"], #A enlever\n",
        "    ]\n",
        "\n",
        "    test_list = [\n",
        "        [\"test_batch\", \"40351d587109b95175f43aff81a1287e\"],\n",
        "    ]\n",
        "    meta = {\n",
        "        \"filename\": \"batches.meta\",\n",
        "        \"key\": \"label_names\",\n",
        "        \"md5\": \"5ff9c542aee3614f3951f8cda6e48888\",\n",
        "    }\n",
        "\n",
        "    def __init__(\n",
        "        self,\n",
        "        root: str,\n",
        "        train: bool = True,\n",
        "        transform: Optional[Callable] = None,\n",
        "        target_transform: Optional[Callable] = None,\n",
        "        download: bool = False,\n",
        "    ) -> None:\n",
        "\n",
        "        super().__init__(root, transform=transform, target_transform=target_transform)\n",
        "\n",
        "        self.train = train  # training set or test set\n",
        "\n",
        "        if download:\n",
        "            self.download()\n",
        "\n",
        "        if not self._check_integrity():\n",
        "            raise RuntimeError(\"Dataset not found or corrupted. You can use download=True to download it\")\n",
        "\n",
        "        if self.train:\n",
        "            downloaded_list = self.train_list\n",
        "        else:\n",
        "            downloaded_list = self.test_list\n",
        "\n",
        "        self.data: Any = []\n",
        "        self.targets = []\n",
        "\n",
        "        # now load the picked numpy arrays\n",
        "        for file_name, checksum in downloaded_list:\n",
        "            file_path = os.path.join(self.root, self.base_folder, file_name)\n",
        "            with open(file_path, \"rb\") as f:\n",
        "                entry = pickle.load(f, encoding=\"latin1\")\n",
        "\n",
        "\n",
        "############################the first 100 samples of the CIFAR-10 training set######\n",
        "                if self.train:\n",
        "                  end = 0\n",
        "                  for sample in entry['data']:\n",
        "                    self.data.append(sample)\n",
        "                    end += 1\n",
        "                    if end == 100:\n",
        "                      break\n",
        "                    \n",
        "                  end = 0\n",
        "                  for label in entry['labels']:\n",
        "                    self.targets.append(label)\n",
        "                    end += 1\n",
        "                    if end == 100:\n",
        "                      break\n",
        "\n",
        "\n",
        "                else:\n",
        "                  self.data.append(entry['data'])\n",
        "                  self.targets.extend(entry['fine_labels'])\n",
        "\n",
        "############################ END  #############################################\n",
        "\n",
        "\n",
        "        self.data = np.vstack(self.data).reshape(-1, 3, 32, 32)\n",
        "        self.data = self.data.transpose((0, 2, 3, 1))  # convert to HWC\n",
        "\n",
        "        self._load_meta()\n",
        "\n",
        "    def _load_meta(self) -> None:\n",
        "        path = os.path.join(self.root, self.base_folder, self.meta[\"filename\"])\n",
        "        if not check_integrity(path, self.meta[\"md5\"]):\n",
        "            raise RuntimeError(\"Dataset metadata file not found or corrupted. You can use download=True to download it\")\n",
        "        with open(path, \"rb\") as infile:\n",
        "            data = pickle.load(infile, encoding=\"latin1\")\n",
        "            self.classes = data[self.meta[\"key\"]]\n",
        "        self.class_to_idx = {_class: i for i, _class in enumerate(self.classes)}\n",
        "\n",
        "    def __getitem__(self, index: int) -> Tuple[Any, Any]:\n",
        "        \"\"\"\n",
        "        Args:\n",
        "            index (int): Index\n",
        "\n",
        "        Returns:\n",
        "            tuple: (image, target) where target is index of the target class.\n",
        "        \"\"\"\n",
        "        img, target = self.data[index], self.targets[index]\n",
        "\n",
        "        # doing this so that it is consistent with all other datasets\n",
        "        # to return a PIL Image\n",
        "        img = Image.fromarray(img)\n",
        "\n",
        "        if self.transform is not None:\n",
        "            img = self.transform(img)\n",
        "\n",
        "        if self.target_transform is not None:\n",
        "            target = self.target_transform(target)\n",
        "\n",
        "        return img, target\n",
        "\n",
        "    def __len__(self) -> int:\n",
        "        return len(self.data)\n",
        "\n",
        "    def _check_integrity(self) -> bool:\n",
        "        root = self.root\n",
        "        for fentry in self.train_list + self.test_list:\n",
        "            filename, md5 = fentry[0], fentry[1]\n",
        "            fpath = os.path.join(root, self.base_folder, filename)\n",
        "            if not check_integrity(fpath, md5):\n",
        "                return False\n",
        "        return True\n",
        "\n",
        "    def download(self) -> None:\n",
        "        if self._check_integrity():\n",
        "            print(\"Files already downloaded and verified\")\n",
        "            return\n",
        "        download_and_extract_archive(self.url, self.root, filename=self.filename, md5=self.tgz_md5)\n",
        "\n",
        "    def extra_repr(self) -> str:\n",
        "        split = \"Train\" if self.train is True else \"Test\"\n",
        "        return f\"Split: {split}\"\n",
        "\n"
      ]
    },
    {
      "cell_type": "code",
      "execution_count": null,
      "metadata": {
        "colab": {
          "base_uri": "https://localhost:8080/"
        },
        "id": "vqDWDj0uzuDS",
        "outputId": "a07f2277-571a-4a0c-c53a-8f7ade787bf1"
      },
      "outputs": [
        {
          "output_type": "stream",
          "name": "stdout",
          "text": [
            "Files already downloaded and verified\n",
            "Files already downloaded and verified\n"
          ]
        }
      ],
      "source": [
        "transf = T.Compose([ T.ToTensor(),\n",
        "                    T.Normalize((0.4914, 0.4822, 0.4465), (0.2023, 0.1994, 0.2010))])\n",
        "\n",
        "X_train = CIFAR10(root='./', train=True, download=True, transform=transf)\n",
        "trainloader = torch.utils.data.DataLoader(X_train, batch_size=10, shuffle=True, num_workers=2)\n",
        "\n",
        "X_test = torchvision.datasets.CIFAR10(root='./', train=False, download=True, transform=transf)\n",
        "testloader = torch.utils.data.DataLoader(X_test, batch_size=10, shuffle=False, num_workers=2)"
      ]
    },
    {
      "cell_type": "code",
      "execution_count": null,
      "metadata": {
        "colab": {
          "base_uri": "https://localhost:8080/"
        },
        "id": "SCeaqjCbjGKl",
        "outputId": "58520537-1040-4251-f90a-d0fb0092a5b3"
      },
      "outputs": [
        {
          "output_type": "stream",
          "name": "stderr",
          "text": [
            "/usr/local/lib/python3.7/dist-packages/numpy/core/fromnumeric.py:1970: FutureWarning: The input object of type 'Tensor' is an array-like implementing one of the corresponding protocols (`__array__`, `__array_interface__` or `__array_struct__`); but not a sequence (or 0-D). In the future, this object will be coerced as if it was first converted using `np.array(obj)`. To retain the old behaviour, you have to either modify the type 'Tensor', or assign to an empty array created with `np.empty(correct_shape, dtype=object)`.\n",
            "  result = asarray(a).shape\n",
            "/usr/local/lib/python3.7/dist-packages/numpy/core/fromnumeric.py:1970: VisibleDeprecationWarning: Creating an ndarray from ragged nested sequences (which is a list-or-tuple of lists-or-tuples-or ndarrays with different lengths or shapes) is deprecated. If you meant to do this, you must specify 'dtype=object' when creating the ndarray.\n",
            "  result = asarray(a).shape\n"
          ]
        },
        {
          "output_type": "stream",
          "name": "stdout",
          "text": [
            "X_train good, continue\n",
            "X_test good, continue\n"
          ]
        }
      ],
      "source": [
        "assert np.shape(X_train)==(100, 2) , 'X_train WRONG, revue it'\n",
        "print('X_train good, continue')\n",
        "assert np.shape(X_test)==(10000, 2) , 'X_test WRONG, revue it'\n",
        "print('X_test good, continue')\n"
      ]
    },
    {
      "cell_type": "markdown",
      "metadata": {
        "id": "kcFD3xMejGKm"
      },
      "source": [
        "## Testing procedure\n",
        "__Question 2 (1.5 points) :__ Explain why the evaluation of the training procedure is difficult. Propose several solutions."
      ]
    },
    {
      "cell_type": "markdown",
      "metadata": {
        "id": "o7ZfGMuRjGKm"
      },
      "source": [
        "Since the dataset is very small, especially compared to the number of features (100 samples of 32x32=1024 images), the model will not learn pertinent caracterestics of each class,during training, and will just overfit the dataset.\n",
        "to adress this issue, several methods are applied, and we will implement them in the present Lab:\n",
        "\n",
        " \n",
        "\n",
        "*   **Transfer learning**, where we import a pretrained model on another dataset and. we change it classification_layer, then we freez it (except the last added layer), then we train it on our dataset.\n",
        "\n",
        "*   **Data Augmentation:**where we create artificial samples from the current samples. For instance, by applying geometric transformations in the case of images.\n",
        "\n",
        "*   **Semi supervised learning:** where we combine a small labeled dataset with a large unlabled dataset in the training step.\n",
        "\n",
        "\n"
      ]
    },
    {
      "cell_type": "markdown",
      "metadata": {
        "id": "b8yeRD7CjGKm"
      },
      "source": [
        "# Raw approach: the baseline"
      ]
    },
    {
      "cell_type": "markdown",
      "metadata": {
        "id": "4dgKvuS0jGKm"
      },
      "source": [
        "In this section, the goal is to train a CNN on $\\mathcal{X}_{\\text{train}}$ and compare its performance with reported numbers from the litterature. You will have to re-use and/or design a standard classification pipeline. You should optimize your pipeline to obtain the best performances (image size, data augmentation by flip, ...).\n",
        "\n",
        "The key ingredients for training a CNN are the batch size, as well as the learning rate schedule, i.e. how to decrease the learning rate as a function of the number of epochs. A possible schedule is to start the learning rate at 0.1 and decreasing it every 30 epochs by 10. In case of divergence, reduce the learning rate. A potential batch size could be 10, yet this can be cross-validated.\n",
        "\n",
        "You can get some baselines accuracies in this paper : http://openaccess.thecvf.com/content_cvpr_2018/papers/Keshari_Learning_Structure_and_CVPR_2018_paper.pdf. Obviously, it is a different context for those researchers who had access to GPUs."
      ]
    },
    {
      "cell_type": "markdown",
      "metadata": {
        "id": "pJpkBpyWjGKn"
      },
      "source": [
        "## ResNet architectures"
      ]
    },
    {
      "cell_type": "markdown",
      "metadata": {
        "id": "z22FjUNYjGKn"
      },
      "source": [
        "__Question 3 (4 points) :__ Write a classification pipeline for $\\mathcal{X}_{\\text{train}}$, train from scratch and evaluate a *ResNet-18* architecture specific to CIFAR10 (details about the ResNet-18 model, originally designed for the ImageNet dataset, can be found here: https://arxiv.org/abs/1512.03385). Please report the accuracy obtained on the whole dataset as well as the reference paper/GitHub link.\n",
        "\n",
        "*Hint:* You can re-use the following code: https://github.com/kuangliu/pytorch-cifar. During a training of 10 epochs, a batch size of 10 and a learning rate of 0.01, one obtains 40% accuracy on $\\mathcal{X}_{\\text{train}}$ (\\~2 minutes) and 20% accuracy on $\\mathcal{X}_{\\text{test}}$ (\\~5 minutes)."
      ]
    },
    {
      "cell_type": "markdown",
      "metadata": {
        "id": "g0P0ZmD71qup"
      },
      "source": [
        "Code ResNet from scratch: source https://github.com/kuangliu/pytorch-cifar/blob/master/models/resnet.py"
      ]
    },
    {
      "cell_type": "code",
      "execution_count": null,
      "metadata": {
        "id": "9QF-wsj8EpO3"
      },
      "outputs": [],
      "source": [
        ""
      ]
    },
    {
      "cell_type": "code",
      "execution_count": null,
      "metadata": {
        "id": "eRufQlL7yPdb"
      },
      "outputs": [],
      "source": [
        "'''ResNet in PyTorch.\n",
        "\n",
        "For Pre-activation ResNet, see 'preact_resnet.py'.\n",
        "\n",
        "Reference:\n",
        "[1] Kaiming He, Xiangyu Zhang, Shaoqing Ren, Jian Sun\n",
        "    Deep Residual Learning for Image Recognition. arXiv:1512.03385\n",
        "'''\n",
        "\n",
        "class BasicBlock(nn.Module):\n",
        "    expansion = 1\n",
        "\n",
        "    def __init__(self, in_planes, planes, stride=1):\n",
        "        super(BasicBlock, self).__init__()\n",
        "        self.conv1 = nn.Conv2d(\n",
        "            in_planes, planes, kernel_size=3, stride=stride, padding=1, bias=False)\n",
        "        self.bn1 = nn.BatchNorm2d(planes)\n",
        "        self.conv2 = nn.Conv2d(planes, planes, kernel_size=3,\n",
        "                               stride=1, padding=1, bias=False)\n",
        "        self.bn2 = nn.BatchNorm2d(planes)\n",
        "\n",
        "        self.shortcut = nn.Sequential()\n",
        "        if stride != 1 or in_planes != self.expansion*planes:\n",
        "            self.shortcut = nn.Sequential(\n",
        "                nn.Conv2d(in_planes, self.expansion*planes,\n",
        "                          kernel_size=1, stride=stride, bias=False),\n",
        "                nn.BatchNorm2d(self.expansion*planes)\n",
        "            )\n",
        "\n",
        "    def forward(self, x):\n",
        "        out = F.relu(self.bn1(self.conv1(x)))\n",
        "        out = self.bn2(self.conv2(out))\n",
        "        out += self.shortcut(x)\n",
        "        out = F.relu(out)\n",
        "        return out\n",
        "\n",
        "\n",
        "class Bottleneck(nn.Module):\n",
        "    expansion = 4\n",
        "\n",
        "    def __init__(self, in_planes, planes, stride=1):\n",
        "        super(Bottleneck, self).__init__()\n",
        "        self.conv1 = nn.Conv2d(in_planes, planes, kernel_size=1, bias=False)\n",
        "        self.bn1 = nn.BatchNorm2d(planes)\n",
        "        self.conv2 = nn.Conv2d(planes, planes, kernel_size=3,\n",
        "                               stride=stride, padding=1, bias=False)\n",
        "        self.bn2 = nn.BatchNorm2d(planes)\n",
        "        self.conv3 = nn.Conv2d(planes, self.expansion *\n",
        "                               planes, kernel_size=1, bias=False)\n",
        "        self.bn3 = nn.BatchNorm2d(self.expansion*planes)\n",
        "\n",
        "        self.shortcut = nn.Sequential()\n",
        "        if stride != 1 or in_planes != self.expansion*planes:\n",
        "            self.shortcut = nn.Sequential(\n",
        "                nn.Conv2d(in_planes, self.expansion*planes,\n",
        "                          kernel_size=1, stride=stride, bias=False),\n",
        "                nn.BatchNorm2d(self.expansion*planes)\n",
        "            )\n",
        "\n",
        "    def forward(self, x):\n",
        "        out = F.relu(self.bn1(self.conv1(x)))\n",
        "        out = F.relu(self.bn2(self.conv2(out)))\n",
        "        out = self.bn3(self.conv3(out))\n",
        "        out += self.shortcut(x)\n",
        "        out = F.relu(out)\n",
        "        return out\n",
        "\n",
        "\n",
        "class ResNet(nn.Module):\n",
        "    def __init__(self, block, num_blocks, num_classes=10):\n",
        "        super(ResNet, self).__init__()\n",
        "        self.in_planes = 64\n",
        "\n",
        "        self.conv1 = nn.Conv2d(3, 64, kernel_size=3,\n",
        "                               stride=1, padding=1, bias=False)\n",
        "        self.bn1 = nn.BatchNorm2d(64)\n",
        "        self.layer1 = self._make_layer(block, 64, num_blocks[0], stride=1)\n",
        "        self.layer2 = self._make_layer(block, 128, num_blocks[1], stride=2)\n",
        "        self.layer3 = self._make_layer(block, 256, num_blocks[2], stride=2)\n",
        "        self.layer4 = self._make_layer(block, 512, num_blocks[3], stride=2)\n",
        "        self.linear = nn.Linear(512*block.expansion, num_classes)\n",
        "\n",
        "    def _make_layer(self, block, planes, num_blocks, stride):\n",
        "        strides = [stride] + [1]*(num_blocks-1)\n",
        "        layers = []\n",
        "        for stride in strides:\n",
        "            layers.append(block(self.in_planes, planes, stride))\n",
        "            self.in_planes = planes * block.expansion\n",
        "        return nn.Sequential(*layers)\n",
        "\n",
        "    def forward(self, x):\n",
        "        out = F.relu(self.bn1(self.conv1(x)))\n",
        "        out = self.layer1(out)\n",
        "        out = self.layer2(out)\n",
        "        out = self.layer3(out)\n",
        "        out = self.layer4(out)\n",
        "        out = F.avg_pool2d(out, 4)\n",
        "        out = out.view(out.size(0), -1)\n",
        "        out = self.linear(out)\n",
        "        return out\n",
        "\n",
        "\n",
        "def ResNet18():\n",
        "    return ResNet(BasicBlock, [2, 2, 2, 2])\n",
        "\n"
      ]
    },
    {
      "cell_type": "code",
      "execution_count": null,
      "metadata": {
        "id": "cUNIFpDgRVfh"
      },
      "outputs": [],
      "source": [
        "resnet_scratch = ResNet18().to(device)\n",
        "\n",
        "\n",
        "criterion = nn.CrossEntropyLoss()\n",
        "\n",
        "optimizer = optim.SGD(resnet_scratch.parameters(), \n",
        "                      lr=0.01,            # Learning rate 0.01\n",
        "                      momentum=0.9, \n",
        "                      weight_decay=5e-4)\n",
        "\n",
        "#scheduler = optim.lr_scheduler.CosineAnnealingLR(optimizer, T_max=200)\n",
        "scheduler = optim.lr_scheduler.StepLR(optimizer, step_size=30, gamma=0.1)\n",
        "\n",
        "\n"
      ]
    },
    {
      "cell_type": "code",
      "execution_count": null,
      "metadata": {
        "id": "h9wmxgUSjGKn"
      },
      "outputs": [],
      "source": [
        ""
      ]
    },
    {
      "cell_type": "code",
      "execution_count": null,
      "metadata": {
        "id": "DSIisS6hR5hd"
      },
      "outputs": [],
      "source": [
        "\n",
        "# Training step\n",
        "def train(model, trainloader, criterion, optimizer):\n",
        "  model.train()\n",
        "  train_loss = 0\n",
        "  correct = 0\n",
        "  total = 0\n",
        "  for batch_idx, (inputs, targets) in enumerate(trainloader):\n",
        "    inputs, targets = inputs.to(device), targets.to(device)\n",
        "    optimizer.zero_grad()\n",
        "    outputs = model(inputs)\n",
        "    loss = criterion(outputs, targets)\n",
        "    loss.backward()\n",
        "    optimizer.step()\n",
        "\n",
        "    train_loss += loss.item()\n",
        "    _, predicted = outputs.max(1)\n",
        "    total += targets.size(0)\n",
        "    correct += predicted.eq(targets).sum().item()\n",
        "  train_acc = correct/total\n",
        "  return train_loss, train_acc\n",
        "\n",
        "#testing step\n",
        "def test(model, testloader, criterion):\n",
        "    global best_acc\n",
        "    model.eval()\n",
        "    test_loss = 0\n",
        "    correct = 0\n",
        "    total = 0\n",
        "    with torch.no_grad():\n",
        "        for batch_idx, (inputs, targets) in enumerate(testloader):\n",
        "            inputs, targets = inputs.to(device), targets.to(device)\n",
        "            outputs = model(inputs)\n",
        "            loss = criterion(outputs, targets)\n",
        "\n",
        "            test_loss += loss.item()\n",
        "            _, predicted = outputs.max(1)\n",
        "            total += targets.size(0)\n",
        "            correct += predicted.eq(targets).sum().item()\n",
        "    test_acc = correct/total\n",
        "    return  test_acc\n",
        "\n",
        "#our experiment\n",
        "def run_experiment(epochs, model, trainloader, testloader, criterion, optimizer):\n",
        "  history = defaultdict(list)\n",
        "  for epoch in range(1,epochs+1):\n",
        "    train_loss, train_acc = train(model, trainloader, criterion, optimizer)\n",
        "    test_acc = test(model, testloader, criterion)\n",
        "\n",
        "    #save logs for plots\n",
        "    history['Train loss'].append(train_loss)\n",
        "    history['Train Accuracy'].append(train_acc)\n",
        "    history['Test Accuracy'].append(test_acc)\n",
        "\n",
        "    print(\" \\nEpoch {}/{} :    train_loss {:.3f};     train_accuracy {:.2%}       Test_accuracy {:.2%}\"\n",
        "    .format(epoch, epochs, train_loss, train_acc, test_acc))\n",
        "    #print(\" \\nEpoch {}/{} :    train_loss {:.3f};     train_accuracy {:.2%}       \"\n",
        "    #.format(epoch, epochs, train_loss, train_acc))\n",
        "\n",
        "  return history\n",
        "\n"
      ]
    },
    {
      "cell_type": "code",
      "execution_count": null,
      "metadata": {
        "colab": {
          "base_uri": "https://localhost:8080/"
        },
        "id": "9XA4c0kbS7bu",
        "outputId": "3dd5a8f6-d14b-434a-8ad7-9efd525f816f"
      },
      "outputs": [
        {
          "output_type": "stream",
          "name": "stdout",
          "text": [
            " \n",
            "Epoch 1/20 :    train_loss 24.671;     train_accuracy 19.00%       Test_accuracy 10.61%\n",
            " \n",
            "Epoch 2/20 :    train_loss 28.837;     train_accuracy 24.00%       Test_accuracy 14.18%\n",
            " \n",
            "Epoch 3/20 :    train_loss 24.737;     train_accuracy 25.00%       Test_accuracy 12.03%\n",
            " \n",
            "Epoch 4/20 :    train_loss 24.272;     train_accuracy 30.00%       Test_accuracy 17.29%\n",
            " \n",
            "Epoch 5/20 :    train_loss 15.806;     train_accuracy 46.00%       Test_accuracy 17.84%\n",
            " \n",
            "Epoch 6/20 :    train_loss 14.132;     train_accuracy 55.00%       Test_accuracy 15.97%\n",
            " \n",
            "Epoch 7/20 :    train_loss 13.707;     train_accuracy 50.00%       Test_accuracy 16.92%\n",
            " \n",
            "Epoch 8/20 :    train_loss 8.734;     train_accuracy 72.00%       Test_accuracy 20.01%\n",
            " \n",
            "Epoch 9/20 :    train_loss 8.334;     train_accuracy 78.00%       Test_accuracy 19.29%\n",
            " \n",
            "Epoch 10/20 :    train_loss 12.020;     train_accuracy 67.00%       Test_accuracy 11.95%\n",
            " \n",
            "Epoch 11/20 :    train_loss 9.987;     train_accuracy 69.00%       Test_accuracy 20.94%\n",
            " \n",
            "Epoch 12/20 :    train_loss 10.409;     train_accuracy 65.00%       Test_accuracy 20.35%\n",
            " \n",
            "Epoch 13/20 :    train_loss 4.844;     train_accuracy 85.00%       Test_accuracy 21.80%\n",
            " \n",
            "Epoch 14/20 :    train_loss 4.162;     train_accuracy 87.00%       Test_accuracy 19.39%\n",
            " \n",
            "Epoch 15/20 :    train_loss 5.132;     train_accuracy 82.00%       Test_accuracy 21.96%\n",
            " \n",
            "Epoch 16/20 :    train_loss 3.806;     train_accuracy 89.00%       Test_accuracy 20.58%\n",
            " \n",
            "Epoch 17/20 :    train_loss 3.987;     train_accuracy 88.00%       Test_accuracy 23.37%\n",
            " \n",
            "Epoch 18/20 :    train_loss 2.817;     train_accuracy 95.00%       Test_accuracy 21.79%\n",
            " \n",
            "Epoch 19/20 :    train_loss 0.986;     train_accuracy 96.00%       Test_accuracy 16.56%\n",
            " \n",
            "Epoch 20/20 :    train_loss 0.733;     train_accuracy 97.00%       Test_accuracy 21.32%\n"
          ]
        }
      ],
      "source": [
        "history_resnet_scratch = run_experiment(20, resnet_scratch, trainloader, testloader, criterion, optimizer)"
      ]
    },
    {
      "cell_type": "markdown",
      "source": [
        "\n",
        "| Model | Number of  epochs  | Train accuracy | Test accuracy |\n",
        "|------|------|------|------|\n",
        "|   ResNet-18  | 20 | 97.00% | 21.32% |\n"
      ],
      "metadata": {
        "id": "WFdUPHWP_Eb5"
      }
    },
    {
      "cell_type": "markdown",
      "metadata": {
        "id": "JLv78we5jGKo"
      },
      "source": [
        "# Transfer learning"
      ]
    },
    {
      "cell_type": "markdown",
      "metadata": {
        "id": "et0xds0xjGKo"
      },
      "source": [
        "We propose to use pre-trained models on a classification task, in order to improve the results of our setting."
      ]
    },
    {
      "cell_type": "markdown",
      "metadata": {
        "id": "ErqP4xNMjGKo"
      },
      "source": [
        "## ImageNet features"
      ]
    },
    {
      "cell_type": "markdown",
      "metadata": {
        "id": "CyHaYiMCjGKo"
      },
      "source": [
        "Now, we will use a model pre-trained on ImageNet and see how well it performs on CIFAR. A list of ImageNet pre-trained models is available on : https://pytorch.org/vision/stable/models.html\n",
        "\n",
        "__Question 4 (3 points) :__ Pick a model from the list above, adapt it for CIFAR and retrain its final layer (or a block of layers, depending on the resources to which you have access to). Report its accuracy."
      ]
    },
    {
      "cell_type": "markdown",
      "source": [
        "See the results below, we manage a bit over 50% by retraining the last layer only."
      ],
      "metadata": {
        "id": "Wknzf4lN7X1u"
      }
    },
    {
      "cell_type": "code",
      "execution_count": null,
      "metadata": {
        "colab": {
          "base_uri": "https://localhost:8080/"
        },
        "id": "2XEy8e4UXmGj",
        "outputId": "4ce42908-8e57-4287-86c0-360286363cef"
      },
      "outputs": [
        {
          "output_type": "stream",
          "name": "stdout",
          "text": [
            "Files already downloaded and verified\n",
            "Files already downloaded and verified\n"
          ]
        }
      ],
      "source": [
        "\n",
        "#import pretrained resnet18\n",
        "resnet_18 = models.resnet18(pretrained=True)\n",
        "resnet_18 = resnet_18.to(device)\n",
        "\n",
        "#transformations for resnet pretrained\n",
        "normalize = T.Normalize(mean=[0.485, 0.456, 0.406],\n",
        "                                     std=[0.229, 0.224, 0.225])\n",
        "transform = T.Compose([T.Resize(224), T.ToTensor(), normalize])\n",
        "\n",
        "#Data loaders\n",
        "\n",
        "X_train_res = CIFAR10(root='./', train=True, download=True, transform=transform)\n",
        "trainloader_res = torch.utils.data.DataLoader(X_train_res, batch_size=10, shuffle=True, num_workers=2)\n",
        "\n",
        "X_test_res = torchvision.datasets.CIFAR10(root='./', train=False, download=True, transform=transform)\n",
        "testloader_res = torch.utils.data.DataLoader(X_test_res, batch_size=10, shuffle=False, num_workers=2)"
      ]
    },
    {
      "cell_type": "code",
      "execution_count": null,
      "metadata": {
        "id": "bnqxxGFYYG4g"
      },
      "outputs": [],
      "source": [
        "#print(resnet_18)"
      ]
    },
    {
      "cell_type": "code",
      "execution_count": null,
      "metadata": {
        "id": "rN_fbCk_bEz3"
      },
      "outputs": [],
      "source": [
        "#Defining our top layer classifier\n",
        "\n",
        "class our_classifier(nn.Module):\n",
        "    def __init__(self):\n",
        "        super().__init__()\n",
        "        self.linear1=nn.Linear(512,256)\n",
        "        self.linear2=nn.Linear(256,10)\n",
        "    \n",
        "    def forward(self,x):\n",
        "        x = F.relu(self.linear1(x))\n",
        "        x = self.linear2(x)\n",
        "        return x\n",
        "\n",
        "\n",
        "classifier = our_classifier().to(device)\n",
        "\n",
        "#replace top layer of resnet18\n",
        "resnet_18.fc = classifier\n",
        "\n",
        "#freeze all the network\n",
        "for param in resnet_18.parameters():\n",
        "        param.requires_grad = False\n",
        "\n",
        "#unfreeze only the classifier\n",
        "for param in resnet_18.fc.parameters():\n",
        "        param.requires_grad = True\n"
      ]
    },
    {
      "cell_type": "code",
      "execution_count": null,
      "metadata": {
        "id": "MlP-6_0GgXgj"
      },
      "outputs": [],
      "source": [
        "#resnet_18.fc"
      ]
    },
    {
      "cell_type": "code",
      "execution_count": null,
      "metadata": {
        "id": "kKFeCQEjgXj8"
      },
      "outputs": [],
      "source": [
        "criterion = nn.CrossEntropyLoss()\n",
        "optimizer = optim.Adam(resnet_18.parameters())\n",
        "scheduler = torch.optim.lr_scheduler.CosineAnnealingLR(optimizer, T_max=200)\n"
      ]
    },
    {
      "cell_type": "code",
      "execution_count": null,
      "metadata": {
        "colab": {
          "base_uri": "https://localhost:8080/"
        },
        "id": "K-TZ5Npyc8G3",
        "outputId": "aa3d956e-1c67-41a1-aef4-41acd732df50"
      },
      "outputs": [
        {
          "output_type": "stream",
          "name": "stdout",
          "text": [
            " \n",
            "Epoch 1/20 :    train_loss 23.457;     train_accuracy 16.00%       Test_accuracy 19.47%\n",
            " \n",
            "Epoch 2/20 :    train_loss 19.958;     train_accuracy 30.00%       Test_accuracy 29.06%\n",
            " \n",
            "Epoch 3/20 :    train_loss 16.911;     train_accuracy 43.00%       Test_accuracy 41.92%\n",
            " \n",
            "Epoch 4/20 :    train_loss 13.766;     train_accuracy 66.00%       Test_accuracy 45.06%\n",
            " \n",
            "Epoch 5/20 :    train_loss 12.204;     train_accuracy 77.00%       Test_accuracy 46.03%\n",
            " \n",
            "Epoch 6/20 :    train_loss 11.000;     train_accuracy 69.00%       Test_accuracy 46.20%\n",
            " \n",
            "Epoch 7/20 :    train_loss 8.793;     train_accuracy 85.00%       Test_accuracy 53.85%\n",
            " \n",
            "Epoch 8/20 :    train_loss 7.341;     train_accuracy 86.00%       Test_accuracy 48.83%\n",
            " \n",
            "Epoch 9/20 :    train_loss 6.305;     train_accuracy 88.00%       Test_accuracy 51.15%\n",
            " \n",
            "Epoch 10/20 :    train_loss 6.256;     train_accuracy 87.00%       Test_accuracy 51.47%\n",
            " \n",
            "Epoch 11/20 :    train_loss 4.388;     train_accuracy 90.00%       Test_accuracy 50.26%\n",
            " \n",
            "Epoch 12/20 :    train_loss 4.118;     train_accuracy 94.00%       Test_accuracy 56.47%\n",
            " \n",
            "Epoch 13/20 :    train_loss 3.226;     train_accuracy 99.00%       Test_accuracy 52.73%\n",
            " \n",
            "Epoch 14/20 :    train_loss 2.938;     train_accuracy 97.00%       Test_accuracy 54.77%\n",
            " \n",
            "Epoch 15/20 :    train_loss 2.727;     train_accuracy 96.00%       Test_accuracy 52.17%\n",
            " \n",
            "Epoch 16/20 :    train_loss 2.310;     train_accuracy 98.00%       Test_accuracy 53.63%\n",
            " \n",
            "Epoch 17/20 :    train_loss 2.005;     train_accuracy 99.00%       Test_accuracy 51.96%\n",
            " \n",
            "Epoch 18/20 :    train_loss 1.594;     train_accuracy 99.00%       Test_accuracy 53.39%\n",
            " \n",
            "Epoch 19/20 :    train_loss 1.814;     train_accuracy 99.00%       Test_accuracy 55.49%\n",
            " \n",
            "Epoch 20/20 :    train_loss 1.503;     train_accuracy 98.00%       Test_accuracy 51.48%\n"
          ]
        }
      ],
      "source": [
        "history_resnet18 = run_experiment(20, resnet_18, trainloader_res, testloader_res, criterion, optimizer)"
      ]
    },
    {
      "cell_type": "markdown",
      "source": [
        "\n",
        "| Model | Number of  epochs  | Train accuracy | Test accuracy |\n",
        "|------|------|------|------|\n",
        "|   ResNet-18  | 20 | 98.00% | 51.48% |"
      ],
      "metadata": {
        "id": "xWfidFG2_avx"
      }
    },
    {
      "cell_type": "markdown",
      "metadata": {
        "id": "-svmb56SjGKp"
      },
      "source": [
        "# Incorporating priors\n",
        "Geometrical priors are appealing for image classification tasks. \n",
        "A color image $x$ can be seen as a function: $\\mathbb{S}\\rightarrow\\mathbb{R}^3$, where $\\mathbb{S} \\subset \\mathbb{R}^2$ is the image support.\n",
        "Let us consider transformations $\\mathcal{T}$ of possible inputs $x$. For instance, if an image had infinite support, a translation $\\mathcal{T}_a$ of an image $x$ by a shift $a$ would lead to a new infinite-support image $\\mathcal{T}_a(x)$, described at each pixel $u$ by :\n",
        "\n",
        "$$\\forall u, \\mathcal{T}_a(x)(u)=x(u-a)\\,.$$\n",
        "\n",
        "__Question 5 (1.5 points) :__ Explain the issues when dealing with translations, rotations, scaling effects, color changes on $32\\times32$ images. Propose several ideas to tackle them."
      ]
    },
    {
      "cell_type": "markdown",
      "metadata": {
        "id": "9YJCU9PgjGKp"
      },
      "source": [
        "There are the traditional issues when dealing with geometric transformation, such as with what color we fill the void created by the transformation (since it does not have infinite support). \n",
        "\n",
        "Furthermore, a transformation is very likely to move a pixel in between grid of pixels (an image is not continuous), and so we have to decide what the new color is (we could use nearest, bilinear, bicubic,Lanczos,..). \n",
        "\n",
        "However, with such a small scale (the 32 by 32), the problem is accentuated. To avoid this problem, it is ia good idea to use stronger resampling methods (such as a bilinear or bicubic filter instead of nearest neighbor). \n",
        "\n",
        "Lastly, CNNs tend to use strides in their architectures. \n",
        "\n",
        "This may make them a less invariant to translations and other transformations especially on small images."
      ]
    },
    {
      "cell_type": "markdown",
      "metadata": {
        "id": "CxMnR6QNjGKp"
      },
      "source": [
        "## Data augmentations"
      ]
    },
    {
      "cell_type": "markdown",
      "metadata": {
        "id": "vvohBWdmjGKp"
      },
      "source": [
        "__Question 6 (3 points) :__ Propose a set of geometric transformations beyond translation, and incorporate them in your training pipeline. Train the model of the __Question 3__ with them and report the accuracies.\n",
        "You can use tools from https://pytorch.org/vision/stable/transforms.html "
      ]
    },
    {
      "cell_type": "code",
      "execution_count": null,
      "metadata": {
        "colab": {
          "base_uri": "https://localhost:8080/"
        },
        "id": "jA3R6AQo6uv7",
        "outputId": "4f86d8a0-2811-4f07-9f17-79bc20fa98d9"
      },
      "outputs": [
        {
          "output_type": "stream",
          "name": "stdout",
          "text": [
            "Files already downloaded and verified\n",
            "Files already downloaded and verified\n",
            " \n",
            "Epoch 1/100 :    train_loss 29.357;     train_accuracy 12.00%       Test_accuracy 9.70%\n",
            " \n",
            "Epoch 2/100 :    train_loss 30.262;     train_accuracy 18.00%       Test_accuracy 9.75%\n",
            " \n",
            "Epoch 3/100 :    train_loss 28.122;     train_accuracy 16.00%       Test_accuracy 10.89%\n",
            " \n",
            "Epoch 4/100 :    train_loss 26.686;     train_accuracy 14.00%       Test_accuracy 17.15%\n",
            " \n",
            "Epoch 5/100 :    train_loss 25.274;     train_accuracy 12.00%       Test_accuracy 17.66%\n",
            " \n",
            "Epoch 6/100 :    train_loss 25.144;     train_accuracy 19.00%       Test_accuracy 17.60%\n",
            " \n",
            "Epoch 7/100 :    train_loss 22.568;     train_accuracy 16.00%       Test_accuracy 18.02%\n",
            " \n",
            "Epoch 8/100 :    train_loss 20.588;     train_accuracy 25.00%       Test_accuracy 21.25%\n",
            " \n",
            "Epoch 9/100 :    train_loss 21.420;     train_accuracy 20.00%       Test_accuracy 17.07%\n",
            " \n",
            "Epoch 10/100 :    train_loss 22.345;     train_accuracy 26.00%       Test_accuracy 17.56%\n",
            " \n",
            "Epoch 11/100 :    train_loss 21.394;     train_accuracy 23.00%       Test_accuracy 18.01%\n",
            " \n",
            "Epoch 12/100 :    train_loss 21.768;     train_accuracy 20.00%       Test_accuracy 21.69%\n",
            " \n",
            "Epoch 13/100 :    train_loss 21.767;     train_accuracy 22.00%       Test_accuracy 22.09%\n",
            " \n",
            "Epoch 14/100 :    train_loss 20.804;     train_accuracy 25.00%       Test_accuracy 23.08%\n",
            " \n",
            "Epoch 15/100 :    train_loss 20.939;     train_accuracy 27.00%       Test_accuracy 21.69%\n",
            " \n",
            "Epoch 16/100 :    train_loss 19.351;     train_accuracy 33.00%       Test_accuracy 22.03%\n",
            " \n",
            "Epoch 17/100 :    train_loss 18.776;     train_accuracy 28.00%       Test_accuracy 19.17%\n",
            " \n",
            "Epoch 18/100 :    train_loss 21.038;     train_accuracy 25.00%       Test_accuracy 20.09%\n",
            " \n",
            "Epoch 19/100 :    train_loss 21.135;     train_accuracy 31.00%       Test_accuracy 19.42%\n",
            " \n",
            "Epoch 20/100 :    train_loss 18.673;     train_accuracy 35.00%       Test_accuracy 20.43%\n",
            " \n",
            "Epoch 21/100 :    train_loss 18.326;     train_accuracy 35.00%       Test_accuracy 22.05%\n",
            " \n",
            "Epoch 22/100 :    train_loss 18.973;     train_accuracy 28.00%       Test_accuracy 21.34%\n",
            " \n",
            "Epoch 23/100 :    train_loss 18.241;     train_accuracy 29.00%       Test_accuracy 20.26%\n",
            " \n",
            "Epoch 24/100 :    train_loss 18.479;     train_accuracy 34.00%       Test_accuracy 21.42%\n",
            " \n",
            "Epoch 25/100 :    train_loss 18.718;     train_accuracy 34.00%       Test_accuracy 20.95%\n",
            " \n",
            "Epoch 26/100 :    train_loss 18.282;     train_accuracy 33.00%       Test_accuracy 20.73%\n",
            " \n",
            "Epoch 27/100 :    train_loss 18.089;     train_accuracy 35.00%       Test_accuracy 18.70%\n",
            " \n",
            "Epoch 28/100 :    train_loss 20.201;     train_accuracy 36.00%       Test_accuracy 20.44%\n",
            " \n",
            "Epoch 29/100 :    train_loss 18.675;     train_accuracy 32.00%       Test_accuracy 16.51%\n",
            " \n",
            "Epoch 30/100 :    train_loss 19.413;     train_accuracy 32.00%       Test_accuracy 20.05%\n",
            " \n",
            "Epoch 31/100 :    train_loss 15.456;     train_accuracy 48.00%       Test_accuracy 23.71%\n",
            " \n",
            "Epoch 32/100 :    train_loss 15.568;     train_accuracy 39.00%       Test_accuracy 21.93%\n",
            " \n",
            "Epoch 33/100 :    train_loss 19.336;     train_accuracy 37.00%       Test_accuracy 21.05%\n",
            " \n",
            "Epoch 34/100 :    train_loss 18.171;     train_accuracy 38.00%       Test_accuracy 24.26%\n",
            " \n",
            "Epoch 35/100 :    train_loss 15.883;     train_accuracy 41.00%       Test_accuracy 20.47%\n",
            " \n",
            "Epoch 36/100 :    train_loss 17.419;     train_accuracy 39.00%       Test_accuracy 16.85%\n",
            " \n",
            "Epoch 37/100 :    train_loss 16.982;     train_accuracy 41.00%       Test_accuracy 21.87%\n",
            " \n",
            "Epoch 38/100 :    train_loss 16.201;     train_accuracy 44.00%       Test_accuracy 21.89%\n",
            " \n",
            "Epoch 39/100 :    train_loss 16.166;     train_accuracy 45.00%       Test_accuracy 22.38%\n",
            " \n",
            "Epoch 40/100 :    train_loss 18.408;     train_accuracy 31.00%       Test_accuracy 21.96%\n",
            " \n",
            "Epoch 41/100 :    train_loss 19.846;     train_accuracy 37.00%       Test_accuracy 21.37%\n",
            " \n",
            "Epoch 42/100 :    train_loss 16.074;     train_accuracy 44.00%       Test_accuracy 20.40%\n",
            " \n",
            "Epoch 43/100 :    train_loss 14.146;     train_accuracy 52.00%       Test_accuracy 20.35%\n",
            " \n",
            "Epoch 44/100 :    train_loss 15.171;     train_accuracy 42.00%       Test_accuracy 21.87%\n",
            " \n",
            "Epoch 45/100 :    train_loss 15.227;     train_accuracy 49.00%       Test_accuracy 21.67%\n",
            " \n",
            "Epoch 46/100 :    train_loss 18.973;     train_accuracy 41.00%       Test_accuracy 21.78%\n",
            " \n",
            "Epoch 47/100 :    train_loss 16.313;     train_accuracy 43.00%       Test_accuracy 21.71%\n",
            " \n",
            "Epoch 48/100 :    train_loss 16.326;     train_accuracy 40.00%       Test_accuracy 22.39%\n",
            " \n",
            "Epoch 49/100 :    train_loss 13.864;     train_accuracy 48.00%       Test_accuracy 23.99%\n",
            " \n",
            "Epoch 50/100 :    train_loss 14.986;     train_accuracy 52.00%       Test_accuracy 20.32%\n",
            " \n",
            "Epoch 51/100 :    train_loss 15.656;     train_accuracy 48.00%       Test_accuracy 22.63%\n",
            " \n",
            "Epoch 52/100 :    train_loss 14.037;     train_accuracy 51.00%       Test_accuracy 20.48%\n",
            " \n",
            "Epoch 53/100 :    train_loss 15.049;     train_accuracy 48.00%       Test_accuracy 22.30%\n",
            " \n",
            "Epoch 54/100 :    train_loss 14.128;     train_accuracy 52.00%       Test_accuracy 20.09%\n",
            " \n",
            "Epoch 55/100 :    train_loss 14.322;     train_accuracy 54.00%       Test_accuracy 22.49%\n",
            " \n",
            "Epoch 56/100 :    train_loss 14.805;     train_accuracy 45.00%       Test_accuracy 21.70%\n",
            " \n",
            "Epoch 57/100 :    train_loss 16.235;     train_accuracy 44.00%       Test_accuracy 20.76%\n",
            " \n",
            "Epoch 58/100 :    train_loss 13.962;     train_accuracy 47.00%       Test_accuracy 20.24%\n",
            " \n",
            "Epoch 59/100 :    train_loss 14.212;     train_accuracy 53.00%       Test_accuracy 22.79%\n",
            " \n",
            "Epoch 60/100 :    train_loss 12.259;     train_accuracy 49.00%       Test_accuracy 19.80%\n",
            " \n",
            "Epoch 61/100 :    train_loss 14.020;     train_accuracy 48.00%       Test_accuracy 22.24%\n",
            " \n",
            "Epoch 62/100 :    train_loss 15.261;     train_accuracy 55.00%       Test_accuracy 22.07%\n",
            " \n",
            "Epoch 63/100 :    train_loss 15.991;     train_accuracy 47.00%       Test_accuracy 20.68%\n",
            " \n",
            "Epoch 64/100 :    train_loss 14.021;     train_accuracy 50.00%       Test_accuracy 17.86%\n",
            " \n",
            "Epoch 65/100 :    train_loss 14.403;     train_accuracy 46.00%       Test_accuracy 21.76%\n",
            " \n",
            "Epoch 66/100 :    train_loss 14.156;     train_accuracy 51.00%       Test_accuracy 23.50%\n",
            " \n",
            "Epoch 67/100 :    train_loss 13.105;     train_accuracy 53.00%       Test_accuracy 23.27%\n",
            " \n",
            "Epoch 68/100 :    train_loss 13.618;     train_accuracy 52.00%       Test_accuracy 21.32%\n",
            " \n",
            "Epoch 69/100 :    train_loss 12.728;     train_accuracy 53.00%       Test_accuracy 21.73%\n",
            " \n",
            "Epoch 70/100 :    train_loss 12.988;     train_accuracy 59.00%       Test_accuracy 21.11%\n",
            " \n",
            "Epoch 71/100 :    train_loss 11.792;     train_accuracy 59.00%       Test_accuracy 20.39%\n",
            " \n",
            "Epoch 72/100 :    train_loss 14.235;     train_accuracy 52.00%       Test_accuracy 22.54%\n",
            " \n",
            "Epoch 73/100 :    train_loss 15.078;     train_accuracy 47.00%       Test_accuracy 20.32%\n",
            " \n",
            "Epoch 74/100 :    train_loss 12.256;     train_accuracy 56.00%       Test_accuracy 23.31%\n",
            " \n",
            "Epoch 75/100 :    train_loss 12.417;     train_accuracy 60.00%       Test_accuracy 22.83%\n",
            " \n",
            "Epoch 76/100 :    train_loss 10.675;     train_accuracy 64.00%       Test_accuracy 20.47%\n",
            " \n",
            "Epoch 77/100 :    train_loss 13.909;     train_accuracy 48.00%       Test_accuracy 20.49%\n",
            " \n",
            "Epoch 78/100 :    train_loss 12.925;     train_accuracy 53.00%       Test_accuracy 23.77%\n",
            " \n",
            "Epoch 79/100 :    train_loss 13.132;     train_accuracy 53.00%       Test_accuracy 22.08%\n",
            " \n",
            "Epoch 80/100 :    train_loss 11.500;     train_accuracy 54.00%       Test_accuracy 19.87%\n",
            " \n",
            "Epoch 81/100 :    train_loss 12.460;     train_accuracy 50.00%       Test_accuracy 21.45%\n",
            " \n",
            "Epoch 82/100 :    train_loss 12.470;     train_accuracy 51.00%       Test_accuracy 20.25%\n",
            " \n",
            "Epoch 83/100 :    train_loss 9.584;     train_accuracy 70.00%       Test_accuracy 23.68%\n",
            " \n",
            "Epoch 84/100 :    train_loss 10.803;     train_accuracy 65.00%       Test_accuracy 23.00%\n",
            " \n",
            "Epoch 85/100 :    train_loss 8.480;     train_accuracy 70.00%       Test_accuracy 21.33%\n",
            " \n",
            "Epoch 86/100 :    train_loss 9.884;     train_accuracy 61.00%       Test_accuracy 23.84%\n",
            " \n",
            "Epoch 87/100 :    train_loss 9.866;     train_accuracy 66.00%       Test_accuracy 22.80%\n",
            " \n",
            "Epoch 88/100 :    train_loss 11.183;     train_accuracy 63.00%       Test_accuracy 23.21%\n",
            " \n",
            "Epoch 89/100 :    train_loss 9.965;     train_accuracy 65.00%       Test_accuracy 22.42%\n",
            " \n",
            "Epoch 90/100 :    train_loss 10.224;     train_accuracy 62.00%       Test_accuracy 21.85%\n",
            " \n",
            "Epoch 91/100 :    train_loss 9.253;     train_accuracy 65.00%       Test_accuracy 22.82%\n",
            " \n",
            "Epoch 92/100 :    train_loss 9.485;     train_accuracy 65.00%       Test_accuracy 19.82%\n",
            " \n",
            "Epoch 93/100 :    train_loss 10.253;     train_accuracy 64.00%       Test_accuracy 20.85%\n",
            " \n",
            "Epoch 94/100 :    train_loss 7.697;     train_accuracy 72.00%       Test_accuracy 24.18%\n",
            " \n",
            "Epoch 95/100 :    train_loss 9.787;     train_accuracy 63.00%       Test_accuracy 22.11%\n",
            " \n",
            "Epoch 96/100 :    train_loss 9.638;     train_accuracy 67.00%       Test_accuracy 21.06%\n",
            " \n",
            "Epoch 97/100 :    train_loss 8.577;     train_accuracy 68.00%       Test_accuracy 21.82%\n",
            " \n",
            "Epoch 98/100 :    train_loss 9.735;     train_accuracy 67.00%       Test_accuracy 21.10%\n",
            " \n",
            "Epoch 99/100 :    train_loss 9.183;     train_accuracy 65.00%       Test_accuracy 22.09%\n",
            " \n",
            "Epoch 100/100 :    train_loss 7.532;     train_accuracy 71.00%       Test_accuracy 24.58%\n"
          ]
        }
      ],
      "source": [
        "# several techniques for data augmentations\n",
        "train_aug2_transforms =  T.Compose([\n",
        "                             T.RandomCrop((26,26)),\n",
        "                             T.RandomHorizontalFlip(),\n",
        "                             T.RandomAffine(degrees=15, translate=(0.2, 0.2), scale=(0.8,1.2), shear=(-3,3,-3,3),  interpolation=torchvision.transforms.InterpolationMode.BILINEAR),\n",
        "                             T.ToTensor(),\n",
        "                             T.Normalize((0.5, 0.5, 0.5), (0.5, 0.5, 0.5))  ,\n",
        "                             ])\n",
        "\n",
        "test_transforms = T.Compose([\n",
        "                                T.ToTensor(),\n",
        "                                T.Normalize([0.5, 0.5, 0.5],\n",
        "                                [0.5, 0.5, 0.5])])\n",
        "\n",
        "\n",
        "\n",
        "X_train_aug2 = CIFAR10(root='./', train=True, download=True, transform=train_aug2_transforms)\n",
        "trainloader_aug2 = torch.utils.data.DataLoader(X_train_aug2, batch_size=10, shuffle=True, num_workers=2)\n",
        "\n",
        "X_test_aug = torchvision.datasets.CIFAR10(root='./', train=False, download=True, transform=test_transforms)\n",
        "testloader_aug2 = torch.utils.data.DataLoader(X_test_aug, batch_size=10, shuffle=False, num_workers=2)\n",
        "\n",
        "new_resnet_2 = ResNet18().to(device)\n",
        "\n",
        "criterion = nn.CrossEntropyLoss()\n",
        "\n",
        "optimizer = optim.SGD(new_resnet_2.parameters(), \n",
        "                      lr=0.01,            # Learning rate 0.01\n",
        "                      momentum=0.9, \n",
        "                      weight_decay=5e-4)\n",
        "\n",
        "#scheduler = optim.lr_scheduler.CosineAnnealingLR(optimizer, T_max=200)\n",
        "scheduler = optim.lr_scheduler.StepLR(optimizer, step_size=25, gamma=0.1)\n",
        "history_newresnet_2 = run_experiment(100, new_resnet_2, trainloader_aug2, testloader_aug2, criterion, optimizer)"
      ]
    },
    {
      "cell_type": "markdown",
      "source": [
        "\n",
        "| Model | Number of  epochs  | Train accuracy | Test accuracy |\n",
        "|------|------|------|------|\n",
        "|   ResNet-18  | 100 | 71.00% | 24.58% |"
      ],
      "metadata": {
        "id": "l583NIVm_tpT"
      }
    },
    {
      "cell_type": "markdown",
      "metadata": {
        "id": "1I81WSECjGKq"
      },
      "source": [
        "# Conclusions"
      ]
    },
    {
      "cell_type": "markdown",
      "metadata": {
        "id": "xjQRkH-kjGKq"
      },
      "source": [
        "__Question 7 (5 points) :__ Write a short report explaining the pros and the cons of each method you implemented. 25% of the grade of this project will correspond to this question, thus, it should be done carefully. In particular, please add a plot that will summarize all your numerical results."
      ]
    },
    {
      "cell_type": "markdown",
      "metadata": {
        "id": "82dUc-f5jGKq"
      },
      "source": [
        "In this Lab, we tackle the problem of training on small datasets.\n",
        "The first task was to train a model in a small training set, then to test it's performance on a larger testing set. The performance of this task was really bad due to overfitting.\n",
        "\n",
        "To adress this issue, we used two different methods, transfer learning and data augmentation. \n",
        "\n",
        "**Method 1: Transfer Learning**\n",
        "\n",
        "This method consists of using a pretrained model, adapting it's classification layer to our task, then training just few lyaers on the new dataset (while freezing the others).\n",
        "\n",
        "*Pros:*\n",
        "    \n",
        "Rapidity and good performance: The implementation showed very good results very quickly and so is easily a go to method, whenever we have a low amount of samples. \n",
        "    \n",
        "*Cons:*\n",
        "\n",
        "A clear downside to this method is that it requires a model that was trained on a similar task to ours, and that is available to us, which for many real world application is not the case. \n",
        "    \n",
        "By only relearning the last layer, we can obtain a test score a bit over 50%. The baseline from the paper is at 45% with 100 training sample on Cifar10, which is lower than our results. However this could be explained by the small sample size, which means that they may have gotten a worst set of images than ours. \n",
        "\n",
        "**Method 2: Data augmentation**\n",
        "\n",
        "The main idea of this method is to apply random transformations to the images throughout the training phase. This forces the model to learn a more complex underlying distribution for the classes. \n",
        "\n",
        "*Pros:*\n",
        "\n",
        "This method is great as it allows the model to perform better for \"free\", as it can be applied anytime. \n",
        "\n",
        "*Cons:*\n",
        "\n",
        "However, it requires at least a bit of tunning to get it right, and the effect are there but essentially limited. We manage to get above 24% after some tunning of the transformations, and training for much longer, since this time the model did not overfit the training set very quickly."
      ]
    },
    {
      "cell_type": "code",
      "execution_count": null,
      "metadata": {
        "id": "B40lz9Hwd794"
      },
      "outputs": [],
      "source": [
        "\n",
        "import matplotlib.pyplot as plt\n",
        "\n",
        "def plot_fig(history):\n",
        "  fig = plt.figure()\n",
        "  ax = fig.add_subplot(111)\n",
        "  xs = np.arange(1, len(history['Train Accuracy']) + 1)\n",
        "  ax.plot(xs, history['Train Accuracy'], '.-', label='Train')\n",
        "  ax.plot(xs, history['Test Accuracy'], '.-', label='Test')\n",
        "  ax.set_xlabel('epoch')\n",
        "  ax.set_ylabel('Accuracy')\n",
        "  ax.legend()\n",
        "  ax.grid()\n",
        "  plt.show()\n"
      ]
    },
    {
      "cell_type": "code",
      "execution_count": null,
      "metadata": {
        "colab": {
          "base_uri": "https://localhost:8080/",
          "height": 804
        },
        "id": "IamTibQmgdYU",
        "outputId": "6543db9e-2d52-411b-b195-7520797bb366"
      },
      "outputs": [
        {
          "output_type": "display_data",
          "data": {
            "image/png": "[encoded data removed]",
            "text/plain": [
              "<Figure size 432x288 with 1 Axes>"
            ]
          },
          "metadata": {
            "needs_background": "light"
          }
        },
        {
          "output_type": "display_data",
          "data": {
            "image/png": "[encoded data removed]",
            "text/plain": [
              "<Figure size 432x288 with 1 Axes>"
            ]
          },
          "metadata": {
            "needs_background": "light"
          }
        },
        {
          "output_type": "display_data",
          "data": {
            "image/png": "[encoded data removed]",
            "text/plain": [
              "<Figure size 432x288 with 1 Axes>"
            ]
          },
          "metadata": {
            "needs_background": "light"
          }
        }
      ],
      "source": [
        "history_experiments = [history_resnet_scratch, history_resnet18, history_newresnet_2]\n",
        "for history in history_experiments:\n",
        "  plot_fig(history)"
      ]
    },
    {
      "cell_type": "code",
      "execution_count": null,
      "metadata": {
        "colab": {
          "base_uri": "https://localhost:8080/",
          "height": 279
        },
        "id": "0KGuS2ZYhWKn",
        "outputId": "1244a512-7a8f-4575-fbed-179b8483dc62"
      },
      "outputs": [
        {
          "output_type": "display_data",
          "data": {
            "image/png": "[encoded data removed]",
            "text/plain": [
              "<Figure size 432x288 with 1 Axes>"
            ]
          },
          "metadata": {
            "needs_background": "light"
          }
        }
      ],
      "source": [
        "fig = plt.figure()\n",
        "ax = fig.add_subplot(111)\n",
        "xs = np.arange(1, len(history_resnet_scratch['Test Accuracy']) + 1)\n",
        "ax.plot(xs, history_resnet_scratch['Test Accuracy'], '.-', label='ResNet-18 from Scratch')\n",
        "xs = np.arange(1, len(history_resnet18['Test Accuracy']) + 1)\n",
        "ax.plot(xs, history_resnet18['Test Accuracy'], '.-', label='ResNet-18 pretrained')\n",
        "xs = np.arange(1, len(history_newresnet_2['Test Accuracy']) + 1)\n",
        "ax.plot(xs, history_newresnet_2['Test Accuracy'], '.-', label='ResNet-18 from Scratch with augmentation')\n",
        "ax.set_xlabel('epoch')\n",
        "ax.set_ylabel('Accuracy')\n",
        "ax.legend()\n",
        "ax.grid()\n",
        "plt.show()"
      ]
    },
    {
      "cell_type": "markdown",
      "metadata": {
        "id": "8MIfKUUojGKq"
      },
      "source": [
        "# Weak supervision"
      ]
    },
    {
      "cell_type": "markdown",
      "metadata": {
        "id": "RldQ1hdPjGKq"
      },
      "source": [
        "__Bonus \\[open\\] question (up to 4 points) :__ Pick a weakly supervised method that will potentially use $\\mathcal{X}_{\\text{nolabel}}\\cup\\mathcal{X}_{\\text{train}}$ to train a model (a subset of $\\mathcal{X}_{\\text{nolabel}}$ is also fine). Evaluate it and report the accuracies. You should be careful in the choice of your method, in order to avoid heavy computational effort."
      ]
    },
    {
      "cell_type": "markdown",
      "metadata": {
        "id": "xk1FF9bqjGKq"
      },
      "source": [
        ""
      ]
    }
  ],
  "metadata": {
    "accelerator": "GPU",
    "colab": {
      "collapsed_sections": [
        "wtb5ZO5djGKi"
      ],
      "name": "TP4_transfer_new(1).ipynb",
      "provenance": []
    },
    "kernelspec": {
      "display_name": "Python 3",
      "language": "python",
      "name": "python3"
    },
    "language_info": {
      "codemirror_mode": {
        "name": "ipython",
        "version": 3
      },
      "file_extension": ".py",
      "mimetype": "text/x-python",
      "name": "python",
      "nbconvert_exporter": "python",
      "pygments_lexer": "ipython3",
      "version": "3.7.6"
    }
  },
  "nbformat": 4,
  "nbformat_minor": 0
}